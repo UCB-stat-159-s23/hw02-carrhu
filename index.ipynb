{
 "cells": [
  {
   "cell_type": "markdown",
   "id": "e9aa3456-3cfd-49a8-89fb-75a26413f476",
   "metadata": {
    "user_expressions": []
   },
   "source": [
    "## **HW 2 - Stat 159**"
   ]
  },
  {
   "cell_type": "markdown",
   "id": "41206a56-de7b-47f1-80a9-cc7513aef2e8",
   "metadata": {
    "tags": [],
    "user_expressions": []
   },
   "source": [
    "_This repository is public so that Binder can find it. All code and data is based on the original [LIGO Center for Open Science Tutorial Repository](https://github.com/losc-tutorial/LOSC_Event_tutorial). This repository is a class exercise that restructures the original LIGO code for improved reproducibility, as a homework assignment for the [Spring 2022 installment of UC Berkeley's Stat 159/259 course, _Reproducible and Collaborative Data Science](https://ucb-stat-159-s22.github.io). Authorship of the original analysis code rests with the LIGO collaboration._"
   ]
  },
  {
   "cell_type": "code",
   "execution_count": null,
   "id": "368c3bb5-8f37-421f-89d5-351bbbd4d336",
   "metadata": {},
   "outputs": [],
   "source": []
  }
 ],
 "metadata": {
  "kernelspec": {
   "display_name": "Python 3 (ipykernel)",
   "language": "python",
   "name": "python3"
  },
  "language_info": {
   "codemirror_mode": {
    "name": "ipython",
    "version": 3
   },
   "file_extension": ".py",
   "mimetype": "text/x-python",
   "name": "python",
   "nbconvert_exporter": "python",
   "pygments_lexer": "ipython3",
   "version": "3.10.8"
  }
 },
 "nbformat": 4,
 "nbformat_minor": 5
}
